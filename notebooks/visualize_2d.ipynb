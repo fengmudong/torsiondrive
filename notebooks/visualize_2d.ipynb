{
 "cells": [
  {
   "cell_type": "markdown",
   "metadata": {},
   "source": [
    "# Visualization of Torsiondrive 2D scan result as energy countour and interactively showing molecular structures.\n"
   ]
  },
  {
   "cell_type": "markdown",
   "metadata": {},
   "source": [
    "#### Known issues: this notebook doesn't work if opened in jupyterlab\n",
    "### Install required packages for running this script (Run in terminal)\n",
    "conda install -c conda-forge matplotlib plotly nglview ipywidgets jupyter-nbextension enable nglview --py --sys-prefix"
   ]
  },
  {
   "cell_type": "markdown",
   "metadata": {},
   "source": [
    "### Specify path to scan.xyz (produced by torsiondrive 2D scan)"
   ]
  },
  {
   "cell_type": "code",
   "execution_count": 1,
   "metadata": {
    "scrolled": true
   },
   "outputs": [],
   "source": [
    "import urllib.request\n",
    "# Use an example file downloaded from the torsiondrive_examples repo\n",
    "url = \"https://github.com/lpwgroup/torsiondrive_examples/raw/master/examples/propanol-2d/work_queue_qchem_geomeTRIC/scan.xyz\"\n",
    "# You can also try this one below for a \"limited range\" scan.\n",
    "#url = \"https://github.com/lpwgroup/torsiondrive_examples/raw/master/examples/range_limited_split/scan.xyz\"\n",
    "urllib.request.urlretrieve(url, 'scan.xyz')\n",
    "# This path can be replaced by your own file path\n",
    "scanxyz = \"scan.xyz\""
   ]
  },
  {
   "cell_type": "markdown",
   "metadata": {},
   "source": [
    "### Parse the scan.xyz file"
   ]
  },
  {
   "cell_type": "code",
   "execution_count": 2,
   "metadata": {
    "scrolled": true
   },
   "outputs": [
    {
     "name": "stdout",
     "output_type": "stream",
     "text": [
      "grid_spacing: [15, 15]\n",
      "grid_size:    [24, 24]\n"
     ]
    }
   ],
   "source": [
    "import numpy as np\n",
    "from torsiondrive.tools import plot_2d_contour\n",
    "# read contents of file into a dictionary\n",
    "grid_data = plot_2d_contour.load_data_from_scan_xyz(scanxyz)\n",
    "# parse data into x_array, y_array and z_mat for plotting\n",
    "x_array, y_array, z_mat = plot_2d_contour.format_2d_grid_data(grid_data, verbose=True)\n",
    "# convert abs energies to relative energies\n",
    "z_mat = (z_mat - np.nanmin(z_mat)) * 627.509"
   ]
  },
  {
   "cell_type": "markdown",
   "metadata": {},
   "source": [
    "### Customized nglview class to visualize molecular structures"
   ]
  },
  {
   "cell_type": "code",
   "execution_count": 3,
   "metadata": {
    "scrolled": true
   },
   "outputs": [],
   "source": [
    "import nglview\n",
    "from geometric.molecule import Molecule\n",
    "\n",
    "class MyStructureTrajectory(nglview.Structure, nglview.Trajectory):\n",
    "    \"\"\" \n",
    "    Custom nglview.Structure and nglview.Trajectory subclass\n",
    "    For loading molecule files using geomeTRIC.molecule.Molecule\n",
    "\n",
    "    Reference\n",
    "    ---------\n",
    "    http://nglviewer.org/nglview/latest/interface_classes.html\n",
    "    \"\"\"\n",
    "    ext = \"pdb\"  # or gro, cif, mol2, sdf\n",
    "    params = {}  # loading options passed to NGL\n",
    "    id = '123121'\n",
    "    def __init__(self, input_file, *args, **kwargs):\n",
    "        mol = Molecule(input_file)\n",
    "        # fill in required fields for PDB format\n",
    "        if not mol.Data.get('resname'):\n",
    "            mol.Data['resname'] = ['RES'] * mol.na\n",
    "        if not mol.Data.get('resid'):\n",
    "            mol.Data['resid'] = [1] * mol.na\n",
    "        self.mol = mol\n",
    "    \n",
    "    def get_structure_string(self):\n",
    "        return '\\n'.join(self.mol.write_pdb(None))\n",
    "\n",
    "    def get_coordinates(self, index):\n",
    "        # return 2D numpy array, shape=(n_atoms, 3)\n",
    "        return self.mol.xyzs[index]\n",
    "    \n",
    "    @property\n",
    "    def n_frames(self):\n",
    "        # return total frames\n",
    "        return len(self.mol)"
   ]
  },
  {
   "cell_type": "markdown",
   "metadata": {},
   "source": [
    "### Generate 2-D torsion angle vs energy contour"
   ]
  },
  {
   "cell_type": "code",
   "execution_count": 4,
   "metadata": {
    "scrolled": false
   },
   "outputs": [
    {
     "data": {
      "application/vnd.jupyter.widget-view+json": {
       "model_id": "7bdcdb60d9144801991f5b4d80f6ac64",
       "version_major": 2,
       "version_minor": 0
      },
      "text/plain": [
       "VBox(children=(FigureWidget({\n",
       "    'data': [{'colorbar': {'title': {'side': 'right', 'text': 'Relative Energy (…"
      ]
     },
     "metadata": {},
     "output_type": "display_data"
    }
   ],
   "source": [
    "import plotly\n",
    "import plotly.graph_objs as go\n",
    "\n",
    "# The nglview widget for molecule\n",
    "molview = nglview.NGLWidget(MyStructureTrajectory(scanxyz))\n",
    "\n",
    "# plotly Contour plot\n",
    "contour = go.Contour(x=y_array, y=x_array, z=z_mat, \n",
    "                     contours=dict(\n",
    "                        # coloring ='heatmap', # this will smooth the colors\n",
    "                        showlabels = True,\n",
    "                        labelfont = dict(\n",
    "                            family = 'Raleway',\n",
    "                            size = 12,\n",
    "                            color = 'white',\n",
    "                        ),\n",
    "                     ), ncontours=15, colorbar={'title':'Relative Energy (kcal/mol)', 'titleside': 'right'})\n",
    "# Store the index of frames for each grid point\n",
    "# because the grid_data dict should have the same order as the input file\n",
    "frame_idx = {gid: idx for idx, gid in enumerate(grid_data)}\n",
    "# click function\n",
    "def show_structure_for_click(trace, points, selector):\n",
    "    gid = (points.ys[0], points.xs[0])\n",
    "    if gid in frame_idx:\n",
    "        molview.frame = frame_idx[gid]\n",
    "fig = go.FigureWidget([contour])\n",
    "fig.layout = go.Layout(xaxis={'title': 'φ (degree)'}, yaxis={'title': 'ψ (degree)'}, width=700, height=700)\n",
    "contour = fig.data[0]\n",
    "contour.on_click(show_structure_for_click)\n",
    "\n",
    "# display the plot and structure side by side\n",
    "import ipywidgets\n",
    "import IPython.display as display\n",
    "\n",
    "topdownbox = ipywidgets.VBox([fig, molview])\n",
    "## Finally, show.\n",
    "display.display(topdownbox)"
   ]
  },
  {
   "cell_type": "markdown",
   "metadata": {},
   "source": [
    "## Alternatively, you can generate a pdf file of the energy contour"
   ]
  },
  {
   "cell_type": "code",
   "execution_count": 5,
   "metadata": {
    "scrolled": true
   },
   "outputs": [],
   "source": [
    "plot_filename = 'torsiondrive-2d-contour.pdf'\n",
    "plot_2d_contour.plot_grid_contour(grid_data, plot_filename, method='contourf')"
   ]
  },
  {
   "cell_type": "code",
   "execution_count": 6,
   "metadata": {
    "scrolled": true
   },
   "outputs": [],
   "source": [
    "plot_filename = 'torsiondrive-2d-heatmap.pdf'\n",
    "plot_2d_contour.plot_grid_contour(grid_data, plot_filename, method='imshow')"
   ]
  }
 ],
 "metadata": {
  "kernelspec": {
   "display_name": "Python 3",
   "language": "python",
   "name": "python3"
  },
  "language_info": {
   "codemirror_mode": {
    "name": "ipython",
    "version": 3
   },
   "file_extension": ".py",
   "mimetype": "text/x-python",
   "name": "python",
   "nbconvert_exporter": "python",
   "pygments_lexer": "ipython3",
   "version": "3.7.3"
  }
 },
 "nbformat": 4,
 "nbformat_minor": 2
}
