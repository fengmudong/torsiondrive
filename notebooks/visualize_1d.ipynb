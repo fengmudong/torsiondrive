{
 "cells": [
  {
   "cell_type": "markdown",
   "metadata": {},
   "source": [
    "# Visualization of Torsiondrive 1D scan result as scatter plot and interactively showing molecular structures.\n"
   ]
  },
  {
   "cell_type": "markdown",
   "metadata": {},
   "source": [
    "#### Known issues: this notebook doesn't work if opened in jupyterlab\n",
    "### Install required packages for running this script (Run in terminal)\n",
    "conda install -c conda-forge matplotlib plotly nglview ipywidgets\n",
    "jupyter-nbextension enable nglview --py --sys-prefix"
   ]
  },
  {
   "cell_type": "markdown",
   "metadata": {},
   "source": [
    "### Specify path to scan.xyz (produced by torsiondrive 1D scan)"
   ]
  },
  {
   "cell_type": "code",
   "execution_count": 1,
   "metadata": {},
   "outputs": [],
   "source": [
    "import urllib.request\n",
    "# Use an example file downloaded from the torsiondrive_examples repo\n",
    "url = \"https://raw.githubusercontent.com/lpwgroup/torsiondrive_examples/master/examples/hooh-1d/psi4/run_local/geomeTRIC/scan.xyz\"\n",
    "urllib.request.urlretrieve(url, 'scan.xyz')\n",
    "# This path can be replaced by your own file path\n",
    "scanxyz = \"scan.xyz\""
   ]
  },
  {
   "cell_type": "markdown",
   "metadata": {},
   "source": [
    "### Parse the scan.xyz file"
   ]
  },
  {
   "cell_type": "code",
   "execution_count": 2,
   "metadata": {},
   "outputs": [],
   "source": [
    "import numpy as np\n",
    "from torsiondrive.tools import plot_1d\n",
    "\n",
    "grid_data = plot_1d.read_scan_xyz(scanxyz)\n",
    "# put grid data into 1-d arrays\n",
    "x_data, y_data = [], []\n",
    "for gid, energy in grid_data.items():\n",
    "    x_data.append(gid[0])\n",
    "    y_data.append(energy)\n",
    "# convert abs energies in Hartree to relative energies in kcal/mol\n",
    "y_data = np.array(y_data)\n",
    "y_data = (y_data - y_data.min())* 627.509"
   ]
  },
  {
   "cell_type": "markdown",
   "metadata": {},
   "source": [
    "### Customized nglview class to visualize molecular structures"
   ]
  },
  {
   "cell_type": "code",
   "execution_count": 3,
   "metadata": {},
   "outputs": [],
   "source": [
    "import nglview\n",
    "from geometric.molecule import Molecule\n",
    "\n",
    "class MyStructureTrajectory(nglview.Structure, nglview.Trajectory):\n",
    "    \"\"\" \n",
    "    Custom nglview.Structure and nglview.Trajectory subclass\n",
    "    For loading molecule files using geomeTRIC.molecule.Molecule\n",
    "\n",
    "    Reference\n",
    "    ---------\n",
    "    http://nglviewer.org/nglview/latest/interface_classes.html\n",
    "    \"\"\"\n",
    "    ext = \"pdb\"  # or gro, cif, mol2, sdf\n",
    "    params = {}  # loading options passed to NGL\n",
    "    id = '123121'\n",
    "    def __init__(self, input_file, *args, **kwargs):\n",
    "        mol = Molecule(input_file)\n",
    "        # fill in required fields for PDB format\n",
    "        if not mol.Data.get('resname'):\n",
    "            mol.Data['resname'] = ['RES'] * mol.na\n",
    "        if not mol.Data.get('resid'):\n",
    "            mol.Data['resid'] = [1] * mol.na\n",
    "        self.mol = mol\n",
    "    \n",
    "    def get_structure_string(self):\n",
    "        return '\\n'.join(self.mol.write_pdb(None))\n",
    "\n",
    "    def get_coordinates(self, index):\n",
    "        # return 2D numpy array, shape=(n_atoms, 3)\n",
    "        return self.mol.xyzs[index]\n",
    "    \n",
    "    @property\n",
    "    def n_frames(self):\n",
    "        # return total frames\n",
    "        return len(self.mol)"
   ]
  },
  {
   "cell_type": "markdown",
   "metadata": {},
   "source": [
    "### Generate 1-D torsion angle vs energy plot"
   ]
  },
  {
   "cell_type": "code",
   "execution_count": 4,
   "metadata": {
    "scrolled": false
   },
   "outputs": [
    {
     "data": {
      "application/vnd.jupyter.widget-view+json": {
       "model_id": "73d2a613cb8e467c9cea2f670f573d3c",
       "version_major": 2,
       "version_minor": 0
      },
      "text/plain": [
       "VBox(children=(FigureWidget({\n",
       "    'data': [{'marker': {'color': [#1f77b4, #1f77b4, #1f77b4, #1f77b4, #1f77b4,\n",
       "…"
      ]
     },
     "metadata": {},
     "output_type": "display_data"
    }
   ],
   "source": [
    "import plotly\n",
    "import plotly.graph_objs as go\n",
    "\n",
    "# The nglview widget for molecule\n",
    "molview = nglview.NGLWidget(MyStructureTrajectory(scanxyz))\n",
    "\n",
    "# plotly Scatter plot\n",
    "scatter = go.Scatter(x=x_data, y=y_data, mode='lines+markers')\n",
    "marker_color_list = ['#1f77b4'] * len(x_data)\n",
    "scatter.marker.color = marker_color_list\n",
    "marker_size_list = [10] * len(x_data)\n",
    "scatter.marker.size = marker_size_list\n",
    "# click function\n",
    "frame_idx = {gid: idx for idx, gid in enumerate(grid_data)}\n",
    "def show_structure_for_click(trace, points, selector):\n",
    "    point_idx = points.point_inds[0]\n",
    "    # update color\n",
    "    color_list_copy = marker_color_list.copy()\n",
    "    color_list_copy[point_idx] = '#2ca02c'\n",
    "    scatter.marker.color = color_list_copy\n",
    "    # update size\n",
    "    marker_size_list_copy = marker_size_list.copy()\n",
    "    marker_size_list_copy[point_idx] *= 2\n",
    "    scatter.marker.size = marker_size_list_copy\n",
    "    # select frame\n",
    "    gid = (points.xs[0],)\n",
    "    molview.frame = frame_idx[gid]\n",
    "fig = go.FigureWidget([scatter])\n",
    "fig.layout = go.Layout(xaxis=dict(tickvals=x_data, tickangle=30, title='Torion Angle (degree)'), yaxis=dict(title='Relative Energy (kcal/mol)'), hovermode='closest')\n",
    "scatter = fig.data[0]\n",
    "scatter.on_click(show_structure_for_click)\n",
    "\n",
    "# display the plot and structure side by side\n",
    "import ipywidgets\n",
    "import IPython.display as display\n",
    "\n",
    "topdownbox = ipywidgets.VBox([fig, molview])\n",
    "## Finally, show.\n",
    "display.display(topdownbox)"
   ]
  },
  {
   "cell_type": "markdown",
   "metadata": {},
   "source": [
    "## Alternatively, you can generate a pdf file of the energy plot"
   ]
  },
  {
   "cell_type": "code",
   "execution_count": 5,
   "metadata": {},
   "outputs": [],
   "source": [
    "plot_filename = 'torsiondrive-1d-plot.pdf'\n",
    "plot_1d.plot_1d_curve(grid_data, plot_filename)"
   ]
  }
 ],
 "metadata": {
  "kernelspec": {
   "display_name": "Python 3",
   "language": "python",
   "name": "python3"
  },
  "language_info": {
   "codemirror_mode": {
    "name": "ipython",
    "version": 3
   },
   "file_extension": ".py",
   "mimetype": "text/x-python",
   "name": "python",
   "nbconvert_exporter": "python",
   "pygments_lexer": "ipython3",
   "version": "3.7.3"
  }
 },
 "nbformat": 4,
 "nbformat_minor": 2
}
