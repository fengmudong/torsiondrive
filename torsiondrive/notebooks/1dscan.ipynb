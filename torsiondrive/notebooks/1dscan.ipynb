{
 "cells": [
  {
   "cell_type": "markdown",
   "metadata": {},
   "source": [
    "# Visualization of Torsiondrive 1D scan result as scatter plot and interactively showing molecular structures.\n"
   ]
  },
  {
   "cell_type": "markdown",
   "metadata": {},
   "source": [
    "## Specify your scan.xyz (produced by torsiondrive) and scan.pdb (converted from scan.xyz by Molecule.py) below."
   ]
  },
  {
   "cell_type": "code",
   "execution_count": 15,
   "metadata": {},
   "outputs": [],
   "source": [
    "scanxyz = \"/home/winter/onsager/tsqm/td/1dscan.xyz\"\n",
    "scanpdb = \"/home/winter/onsager/tsqm/td/1dscan.pdb\""
   ]
  },
  {
   "cell_type": "markdown",
   "metadata": {},
   "source": [
    "## Execute the following cell to see an interactive plot. Click on the scan point to corresponding show structure."
   ]
  },
  {
   "cell_type": "code",
   "execution_count": 17,
   "metadata": {},
   "outputs": [
    {
     "data": {
      "application/vnd.jupyter.widget-view+json": {
       "model_id": "62cb1fb3878f4465af52750f70752508",
       "version_major": 2,
       "version_minor": 0
      },
      "text/plain": [
       "FigureWidget({\n",
       "    'data': [{'type': 'scatter',\n",
       "              'uid': 'eadfa30e-0813-4c2d-a5b8-f86dbcf1e772',\n",
       " …"
      ]
     },
     "metadata": {},
     "output_type": "display_data"
    }
   ],
   "source": [
    "import numpy as np\n",
    "import nglview as nv\n",
    "from IPython.display import display\n",
    "import plotly.graph_objs as go\n",
    "import plotly\n",
    "\n",
    "def show_structure_for_click(trace, point, selector):\n",
    "    x=point.xs[0]\n",
    "    print (\"Showing optimized conformation for x = \" +str(x))\n",
    "    # pick the lines correponding to x in scan.pdb and write a temporary pdb for visualization.\n",
    "    position = int(1 + (x-xmin)//xstep)\n",
    "    with open(scanpdb) as f:\n",
    "        lines = f.readlines()\n",
    "    wanted_lines = lines[1+(n_atoms+3)*(position-1):1+(n_atoms+3)*position]\n",
    "    with open('temp.pdb', 'w') as f:\n",
    "        for item in wanted_lines:\n",
    "            f.write(\"%s\" % item)\n",
    "    view = nv.show_structure_file(\"temp.pdb\")\n",
    "    view.background = 'white'\n",
    "    display(view)\n",
    "\n",
    "# Parse dihedrals and energies. From Yudong's script.\n",
    "with open(scanxyz) as f:\n",
    "    lines = f.readlines()\n",
    "global n_atoms \n",
    "n_atoms = int(lines[0])\n",
    "comment_lines = lines[1::n_atoms+2]\n",
    "grid_data = dict()\n",
    "for line in comment_lines:\n",
    "    ls = line.strip().split()\n",
    "    assert ls[0] == 'Dihedral' and ls[-2] == 'Energy', line\n",
    "    grid_energy = float(ls[-1])\n",
    "    grid_coord = []\n",
    "    for i in range(1, len(ls) - 2):\n",
    "        c = int(ls[i].replace('(', '').replace(',','').replace(')',''))\n",
    "        grid_coord.append(c)\n",
    "    grid_data[tuple(grid_coord)] = grid_energy\n",
    "    \n",
    "# auto determination of No. of scan points (xpts), minimum values (xmin) and step size (xstep)\n",
    "global xpts, xmin, xstep\n",
    "xpts = len(grid_data)\n",
    "xmin = float(lines[1].strip().split()[1][1:-2])\n",
    "xstep = float(lines[1+n_atoms+2].strip().split()[1][1:-2]) - float(lines[1].strip().split()[1][1:-2])\n",
    "\n",
    "x = np.linspace(xmin,xmin+xstep*(xpts-1),num=xpts)\n",
    "rawe = np.fromiter(grid_data.values(), dtype=float).T\n",
    "# convering rawe in hartree to e in kcal/mol with lowest value offset to zero.\n",
    "e = rawe*627.509-np.min(rawe*627.509)\n",
    "\n",
    "# Make the plot.  \n",
    "fig = go.FigureWidget([go.Scatter(x=x, y=e)])\n",
    "#There is a glitch rendering figure widget if go.Layout(...) is added to go.FigureWidget(). \n",
    "#For custom layout, use the cell below that renders static figure.\n",
    "\n",
    "fig.data[0].on_click(show_structure_for_click)\n",
    "fig"
   ]
  },
  {
   "cell_type": "markdown",
   "metadata": {},
   "source": [
    "## Too many structures? Re-execute the above cell to clear them.\n",
    "\n",
    "## Wanna see a static energy surface? Execute the cell below."
   ]
  },
  {
   "cell_type": "code",
   "execution_count": 18,
   "metadata": {},
   "outputs": [
    {
     "data": {
      "text/html": [
       "<script type=\"text/javascript\">window.PlotlyConfig = {MathJaxConfig: 'local'};</script><script type=\"text/javascript\">if (window.MathJax) {MathJax.Hub.Config({SVG: {font: \"STIX-Web\"}});}</script><script>requirejs.config({paths: { 'plotly': ['https://cdn.plot.ly/plotly-latest.min']},});if(!window._Plotly) {require(['plotly'],function(plotly) {window._Plotly=plotly;});}</script>"
      ],
      "text/vnd.plotly.v1+html": [
       "<script type=\"text/javascript\">window.PlotlyConfig = {MathJaxConfig: 'local'};</script><script type=\"text/javascript\">if (window.MathJax) {MathJax.Hub.Config({SVG: {font: \"STIX-Web\"}});}</script><script>requirejs.config({paths: { 'plotly': ['https://cdn.plot.ly/plotly-latest.min']},});if(!window._Plotly) {require(['plotly'],function(plotly) {window._Plotly=plotly;});}</script>"
      ]
     },
     "metadata": {},
     "output_type": "display_data"
    },
    {
     "data": {
      "application/vnd.plotly.v1+json": {
       "config": {
        "linkText": "Export to plot.ly",
        "plotlyServerURL": "https://plot.ly",
        "showLink": false
       },
       "data": [
        {
         "type": "scatter",
         "uid": "341de7a1-9963-474f-b4c2-5f20700e67ea",
         "x": [
          -165,
          -150,
          -135,
          -120,
          -105,
          -90,
          -75,
          -60,
          -45,
          -30,
          -15,
          0,
          15,
          30,
          45,
          60,
          75,
          90,
          105,
          120,
          135,
          150,
          165,
          180
         ],
         "y": [
          0.5893846906983526,
          0.3817852607171517,
          0.13807331530551892,
          5.14557323185727e-05,
          0.13422794015787076,
          0.6897309099149425,
          1.740344755758997,
          3.2330004140530946,
          4.964723196157138,
          6.606586061956477,
          7.787932622828521,
          8.218197973881615,
          7.787931367798592,
          6.606586061956477,
          4.964725078694755,
          3.2329960214992752,
          1.7403309505461948,
          0.6897309099149425,
          0.13422794015787076,
          0,
          0.13816806915565394,
          0.3816930168977706,
          0.5894367739383597,
          0.6692866666853661
         ]
        }
       ],
       "layout": {
        "xaxis": {
         "tickangle": 30,
         "tickvals": [
          -165,
          -150,
          -135,
          -120,
          -105,
          -90,
          -75,
          -60,
          -45,
          -30,
          -15,
          0,
          15,
          30,
          45,
          60,
          75,
          90,
          105,
          120,
          135,
          150,
          165,
          180
         ]
        },
        "yaxis": {
         "title": {
          "text": "Relative Energy (kcal/mol)"
         }
        }
       }
      },
      "text/html": [
       "<div id=\"73e0095b-2df5-4a89-b26e-66417e74a111\" style=\"height: 525px; width: 100%;\" class=\"plotly-graph-div\"></div><script type=\"text/javascript\">require([\"plotly\"], function(Plotly) { window.PLOTLYENV=window.PLOTLYENV || {};window.PLOTLYENV.BASE_URL=\"https://plot.ly\";\n",
       "if (document.getElementById(\"73e0095b-2df5-4a89-b26e-66417e74a111\")) {\n",
       "    Plotly.newPlot(\"73e0095b-2df5-4a89-b26e-66417e74a111\", [{\"x\": [-165.0, -150.0, -135.0, -120.0, -105.0, -90.0, -75.0, -60.0, -45.0, -30.0, -15.0, 0.0, 15.0, 30.0, 45.0, 60.0, 75.0, 90.0, 105.0, 120.0, 135.0, 150.0, 165.0, 180.0], \"y\": [0.5893846906983526, 0.3817852607171517, 0.13807331530551892, 5.14557323185727e-05, 0.13422794015787076, 0.6897309099149425, 1.740344755758997, 3.2330004140530946, 4.964723196157138, 6.606586061956477, 7.787932622828521, 8.218197973881615, 7.787931367798592, 6.606586061956477, 4.964725078694755, 3.2329960214992752, 1.7403309505461948, 0.6897309099149425, 0.13422794015787076, 0.0, 0.13816806915565394, 0.3816930168977706, 0.5894367739383597, 0.6692866666853661], \"type\": \"scatter\", \"uid\": \"341de7a1-9963-474f-b4c2-5f20700e67ea\"}], {\"xaxis\": {\"tickangle\": 30, \"tickvals\": [-165.0, -150.0, -135.0, -120.0, -105.0, -90.0, -75.0, -60.0, -45.0, -30.0, -15.0, 0.0, 15.0, 30.0, 45.0, 60.0, 75.0, 90.0, 105.0, 120.0, 135.0, 150.0, 165.0, 180.0]}, \"yaxis\": {\"title\": {\"text\": \"Relative Energy (kcal/mol)\"}}}, {\"showLink\": false, \"linkText\": \"Export to plot.ly\", \"plotlyServerURL\": \"https://plot.ly\"}); \n",
       "}\n",
       "});</script><script type=\"text/javascript\">window.addEventListener(\"resize\", function(){if (document.getElementById(\"73e0095b-2df5-4a89-b26e-66417e74a111\")) {window._Plotly.Plots.resize(document.getElementById(\"73e0095b-2df5-4a89-b26e-66417e74a111\"));};})</script>"
      ],
      "text/vnd.plotly.v1+html": [
       "<div id=\"73e0095b-2df5-4a89-b26e-66417e74a111\" style=\"height: 525px; width: 100%;\" class=\"plotly-graph-div\"></div><script type=\"text/javascript\">require([\"plotly\"], function(Plotly) { window.PLOTLYENV=window.PLOTLYENV || {};window.PLOTLYENV.BASE_URL=\"https://plot.ly\";\n",
       "if (document.getElementById(\"73e0095b-2df5-4a89-b26e-66417e74a111\")) {\n",
       "    Plotly.newPlot(\"73e0095b-2df5-4a89-b26e-66417e74a111\", [{\"x\": [-165.0, -150.0, -135.0, -120.0, -105.0, -90.0, -75.0, -60.0, -45.0, -30.0, -15.0, 0.0, 15.0, 30.0, 45.0, 60.0, 75.0, 90.0, 105.0, 120.0, 135.0, 150.0, 165.0, 180.0], \"y\": [0.5893846906983526, 0.3817852607171517, 0.13807331530551892, 5.14557323185727e-05, 0.13422794015787076, 0.6897309099149425, 1.740344755758997, 3.2330004140530946, 4.964723196157138, 6.606586061956477, 7.787932622828521, 8.218197973881615, 7.787931367798592, 6.606586061956477, 4.964725078694755, 3.2329960214992752, 1.7403309505461948, 0.6897309099149425, 0.13422794015787076, 0.0, 0.13816806915565394, 0.3816930168977706, 0.5894367739383597, 0.6692866666853661], \"type\": \"scatter\", \"uid\": \"341de7a1-9963-474f-b4c2-5f20700e67ea\"}], {\"xaxis\": {\"tickangle\": 30, \"tickvals\": [-165.0, -150.0, -135.0, -120.0, -105.0, -90.0, -75.0, -60.0, -45.0, -30.0, -15.0, 0.0, 15.0, 30.0, 45.0, 60.0, 75.0, 90.0, 105.0, 120.0, 135.0, 150.0, 165.0, 180.0]}, \"yaxis\": {\"title\": {\"text\": \"Relative Energy (kcal/mol)\"}}}, {\"showLink\": false, \"linkText\": \"Export to plot.ly\", \"plotlyServerURL\": \"https://plot.ly\"}); \n",
       "}\n",
       "});</script><script type=\"text/javascript\">window.addEventListener(\"resize\", function(){if (document.getElementById(\"73e0095b-2df5-4a89-b26e-66417e74a111\")) {window._Plotly.Plots.resize(document.getElementById(\"73e0095b-2df5-4a89-b26e-66417e74a111\"));};})</script>"
      ]
     },
     "metadata": {},
     "output_type": "display_data"
    }
   ],
   "source": [
    "plotly.offline.init_notebook_mode(connected=True)\n",
    "static = go.Figure([go.Scatter(x=x, y=e)],\n",
    "                   go.Layout(xaxis=dict(tickvals=x, tickangle=30),\n",
    "                             yaxis=dict(title='Relative Energy (kcal/mol)')))\n",
    "plotly.offline.iplot(static)"
   ]
  },
  {
   "cell_type": "markdown",
   "metadata": {},
   "source": [
    "## Known issues: this notebook doesn't work if opened in jupyterlab, so open it by vanilla jupyter notebook."
   ]
  }
 ],
 "metadata": {
  "kernelspec": {
   "display_name": "Python 3",
   "language": "python",
   "name": "python3"
  },
  "language_info": {
   "codemirror_mode": {
    "name": "ipython",
    "version": 3
   },
   "file_extension": ".py",
   "mimetype": "text/x-python",
   "name": "python",
   "nbconvert_exporter": "python",
   "pygments_lexer": "ipython3",
   "version": "3.6.7"
  }
 },
 "nbformat": 4,
 "nbformat_minor": 2
}
